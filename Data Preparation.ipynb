{
 "cells": [
  {
   "cell_type": "code",
   "execution_count": 103,
   "id": "e293691b",
   "metadata": {},
   "outputs": [],
   "source": [
    "# Importing required libraries\n",
    "\n",
    "import pandas as pd\n",
    "import numpy as np\n",
    "import seaborn as sns"
   ]
  },
  {
   "cell_type": "code",
   "execution_count": 104,
   "id": "aea7f64e",
   "metadata": {},
   "outputs": [],
   "source": [
    "# Importing the data\n",
    "\n",
    "diet = pd.read_csv('diet_NHANES 082021-082023.csv')\n",
    "exam = pd.read_csv('examination_NHANES 082021-082023.csv')\n",
    "labs = pd.read_csv('laboratory_NHANES 082021-082023.csv')"
   ]
  },
  {
   "cell_type": "code",
   "execution_count": 105,
   "id": "e962f833",
   "metadata": {},
   "outputs": [
    {
     "name": "stdout",
     "output_type": "stream",
     "text": [
      "\n",
      " Diet Dataset:\n",
      "        SEQN        WTDRD1         WTDR2D  DR1DRSTZ  DR1EXMER  DRABF  DRDINT  \\\n",
      "0  130378.0  61366.555827   70554.222162       1.0      73.0    2.0     2.0   \n",
      "1  130379.0  34638.056480   36505.468348       1.0      73.0    2.0     2.0   \n",
      "2  130380.0  84728.261560  103979.190677       1.0      73.0    2.0     2.0   \n",
      "3  130381.0  61737.133446   75009.220819       1.0      91.0    2.0     2.0   \n",
      "4  130382.0  75846.746917  172361.851828       1.0      73.0    2.0     2.0   \n",
      "\n",
      "   DR1DBIH  DR1DAY  DR1LANG  ...  DRD370QQ  DRD370R  DRD370RQ  DRD370S  \\\n",
      "0     40.0     4.0      1.0  ...       NaN      2.0       NaN      2.0   \n",
      "1     19.0     4.0      1.0  ...       1.0      2.0       NaN      2.0   \n",
      "2     16.0     4.0      1.0  ...       NaN      2.0       NaN      2.0   \n",
      "3     23.0     5.0      1.0  ...       NaN      2.0       NaN      2.0   \n",
      "4     27.0     6.0      1.0  ...       NaN      2.0       NaN      2.0   \n",
      "\n",
      "   DRD370SQ  DRD370T  DRD370TQ  DRD370U  DRD370UQ  DRD370V  \n",
      "0       NaN      2.0       NaN      2.0       NaN      2.0  \n",
      "1       NaN      2.0       NaN      2.0       NaN      2.0  \n",
      "2       NaN      1.0       4.0      2.0       NaN      2.0  \n",
      "3       NaN      2.0       NaN      2.0       NaN      2.0  \n",
      "4       NaN      2.0       NaN      2.0       NaN      2.0  \n",
      "\n",
      "[5 rows x 168 columns]\n",
      "<class 'pandas.core.frame.DataFrame'>\n",
      "RangeIndex: 8860 entries, 0 to 8859\n",
      "Columns: 168 entries, SEQN to DRD370V\n",
      "dtypes: float64(168)\n",
      "memory usage: 11.4 MB\n",
      "\n",
      " Basic Information: None\n",
      "\n",
      " Statistics:\n",
      "                 SEQN        WTDRD1        WTDR2D     DR1DRSTZ     DR1EXMER  \\\n",
      "count    8860.000000  8.860000e+03  6.754000e+03  8860.000000  6797.000000   \n",
      "mean   136345.828217  3.690898e+04  4.841776e+04     1.956546    53.490511   \n",
      "std      3453.776310  3.999623e+04  5.124576e+04     1.696070    35.798058   \n",
      "min    130378.000000  5.397605e-79  5.397605e-79     1.000000     5.000000   \n",
      "25%    133319.750000  1.075696e+04  1.965055e+04     1.000000     7.000000   \n",
      "50%    136377.500000  2.804253e+04  3.491219e+04     1.000000    65.000000   \n",
      "75%    139336.250000  5.040740e+04  6.058704e+04     1.000000    87.000000   \n",
      "max    142310.000000  4.085058e+05  7.598683e+05     5.000000    96.000000   \n",
      "\n",
      "             DRABF       DRDINT      DR1DBIH       DR1DAY      DR1LANG  ...  \\\n",
      "count  6734.000000  6754.000000  6375.000000  6797.000000  6802.000000  ...   \n",
      "mean      1.991090     1.870447    25.635608     3.547742     1.088062  ...   \n",
      "std       0.093978     0.335836    18.048763     1.783028     0.306344  ...   \n",
      "min       1.000000     1.000000   -30.000000     1.000000     1.000000  ...   \n",
      "25%       2.000000     2.000000    13.000000     2.000000     1.000000  ...   \n",
      "50%       2.000000     2.000000    22.000000     4.000000     1.000000  ...   \n",
      "75%       2.000000     2.000000    34.000000     5.000000     1.000000  ...   \n",
      "max       2.000000     2.000000   149.000000     7.000000     4.000000  ...   \n",
      "\n",
      "        DRD370QQ      DRD370R    DRD370RQ      DRD370S   DRD370SQ  \\\n",
      "count  45.000000  4175.000000  153.000000  4175.000000  96.000000   \n",
      "mean    1.244444     1.963353    1.888889     1.977006   1.468750   \n",
      "std     0.528959     0.187915    1.604088     0.149902   0.882021   \n",
      "min     1.000000     1.000000    1.000000     1.000000   1.000000   \n",
      "25%     1.000000     2.000000    1.000000     2.000000   1.000000   \n",
      "50%     1.000000     2.000000    1.000000     2.000000   1.000000   \n",
      "75%     1.000000     2.000000    2.000000     2.000000   2.000000   \n",
      "max     3.000000     2.000000   10.000000     2.000000   6.000000   \n",
      "\n",
      "           DRD370T    DRD370TQ      DRD370U    DRD370UQ      DRD370V  \n",
      "count  4175.000000  982.000000  4175.000000  124.000000  4173.000000  \n",
      "mean      1.764790    2.593686     1.970299    1.790323     1.999281  \n",
      "std       0.424181    2.778408     0.169780    1.270517     0.026806  \n",
      "min       1.000000    1.000000     1.000000    1.000000     1.000000  \n",
      "25%       2.000000    1.000000     2.000000    1.000000     2.000000  \n",
      "50%       2.000000    2.000000     2.000000    1.000000     2.000000  \n",
      "75%       2.000000    3.000000     2.000000    2.000000     2.000000  \n",
      "max       2.000000   30.000000     2.000000    6.000000     2.000000  \n",
      "\n",
      "[8 rows x 168 columns]\n",
      "\n",
      " Missing Values:\n",
      " SEQN           0\n",
      "WTDRD1         0\n",
      "WTDR2D      2106\n",
      "DR1DRSTZ       0\n",
      "DR1EXMER    2063\n",
      "            ... \n",
      "DRD370T     4685\n",
      "DRD370TQ    7878\n",
      "DRD370U     4685\n",
      "DRD370UQ    8736\n",
      "DRD370V     4687\n",
      "Length: 168, dtype: int64\n"
     ]
    }
   ],
   "source": [
    "# Examining the Diet Dataset\n",
    "print(\"\\n Diet Dataset:\\n\", diet.head())\n",
    "print(\"\\n Basic Information:\", diet.info())\n",
    "print(\"\\n Statistics:\\n\", diet.describe())\n",
    "print(\"\\n Missing Values:\\n\", diet.isnull().sum())"
   ]
  },
  {
   "cell_type": "code",
   "execution_count": 106,
   "id": "a18e211e",
   "metadata": {},
   "outputs": [
    {
     "name": "stdout",
     "output_type": "stream",
     "text": [
      "\n",
      " Examination Dataset:\n",
      "        SEQN  BMDSTATS  BMXWT  BMIWT  BMXRECUM  BMIRECUM  BMXHEAD  BMIHEAD  \\\n",
      "0  130378.0       1.0   86.9    NaN       NaN       NaN      NaN      NaN   \n",
      "1  130379.0       1.0  101.8    NaN       NaN       NaN      NaN      NaN   \n",
      "2  130380.0       1.0   69.4    NaN       NaN       NaN      NaN      NaN   \n",
      "3  130381.0       1.0   34.3    NaN       NaN       NaN      NaN      NaN   \n",
      "4  130382.0       3.0   13.6    NaN       NaN       1.0      NaN      NaN   \n",
      "\n",
      "   BMXHT  BMIHT  ...  BMXLEG  BMILEG  BMXARML  BMIARML  BMXARMC  BMIARMC  \\\n",
      "0  179.5    NaN  ...    42.8     NaN     42.0      NaN     35.7      NaN   \n",
      "1  174.2    NaN  ...    38.5     NaN     38.7      NaN     33.7      NaN   \n",
      "2  152.9    NaN  ...    38.5     NaN     35.5      NaN     36.3      NaN   \n",
      "3  120.1    NaN  ...     NaN     NaN     25.4      NaN     23.4      NaN   \n",
      "4    NaN    1.0  ...     NaN     NaN      NaN      1.0      NaN      1.0   \n",
      "\n",
      "   BMXWAIST  BMIWAIST  BMXHIP  BMIHIP  \n",
      "0      98.3       NaN   102.9     NaN  \n",
      "1     114.7       NaN   112.4     NaN  \n",
      "2      93.5       NaN    98.0     NaN  \n",
      "3      70.4       NaN     NaN     NaN  \n",
      "4       NaN       1.0     NaN     NaN  \n",
      "\n",
      "[5 rows x 22 columns]\n",
      "<class 'pandas.core.frame.DataFrame'>\n",
      "RangeIndex: 8860 entries, 0 to 8859\n",
      "Data columns (total 22 columns):\n",
      " #   Column    Non-Null Count  Dtype  \n",
      "---  ------    --------------  -----  \n",
      " 0   SEQN      8860 non-null   float64\n",
      " 1   BMDSTATS  8860 non-null   float64\n",
      " 2   BMXWT     8754 non-null   float64\n",
      " 3   BMIWT     345 non-null    float64\n",
      " 4   BMXRECUM  454 non-null    float64\n",
      " 5   BMIRECUM  18 non-null     float64\n",
      " 6   BMXHEAD   70 non-null     float64\n",
      " 7   BMIHEAD   0 non-null      float64\n",
      " 8   BMXHT     8499 non-null   float64\n",
      " 9   BMIHT     134 non-null    float64\n",
      " 10  BMXBMI    8471 non-null   float64\n",
      " 11  BMDBMIC   2492 non-null   float64\n",
      " 12  BMXLEG    7335 non-null   float64\n",
      " 13  BMILEG    396 non-null    float64\n",
      " 14  BMXARML   8568 non-null   float64\n",
      " 15  BMIARML   200 non-null    float64\n",
      " 16  BMXARMC   8562 non-null   float64\n",
      " 17  BMIARMC   205 non-null    float64\n",
      " 18  BMXWAIST  8190 non-null   float64\n",
      " 19  BMIWAIST  347 non-null    float64\n",
      " 20  BMXHIP    6776 non-null   float64\n",
      " 21  BMIHIP    361 non-null    float64\n",
      "dtypes: float64(22)\n",
      "memory usage: 1.5 MB\n",
      "\n",
      " Basic Information: None\n",
      "\n",
      " Statistics:\n",
      "                 SEQN     BMDSTATS        BMXWT       BMIWT    BMXRECUM  \\\n",
      "count    8860.000000  8860.000000  8754.000000  345.000000  454.000000   \n",
      "mean   136345.828217     1.132280    70.549037    2.881159   84.329956   \n",
      "std      3453.776310     0.503848    30.389021    0.624424   14.058157   \n",
      "min    130378.000000     1.000000     2.700000    1.000000   48.500000   \n",
      "25%    133319.750000     1.000000    54.200000    3.000000   73.475000   \n",
      "50%    136377.500000     1.000000    71.700000    3.000000   84.700000   \n",
      "75%    139336.250000     1.000000    89.100000    3.000000   96.100000   \n",
      "max    142310.000000     4.000000   248.200000    4.000000  118.800000   \n",
      "\n",
      "       BMIRECUM    BMXHEAD  BMIHEAD        BMXHT       BMIHT  ...  \\\n",
      "count      18.0  70.000000      0.0  8499.000000  134.000000  ...   \n",
      "mean        1.0  41.932857      NaN   159.664549    2.313433  ...   \n",
      "std         0.0   2.798484      NaN    19.864943    0.953174  ...   \n",
      "min         1.0  34.400000      NaN    79.100000    1.000000  ...   \n",
      "25%         1.0  40.200000      NaN   154.400000    1.000000  ...   \n",
      "50%         1.0  42.400000      NaN   163.600000    3.000000  ...   \n",
      "75%         1.0  44.000000      NaN   172.100000    3.000000  ...   \n",
      "max         1.0  46.500000      NaN   200.700000    3.000000  ...   \n",
      "\n",
      "            BMXLEG  BMILEG      BMXARML  BMIARML      BMXARMC  BMIARMC  \\\n",
      "count  7335.000000   396.0  8568.000000    200.0  8562.000000    205.0   \n",
      "mean     38.130307     1.0    35.111858      1.0    30.560453      1.0   \n",
      "std       3.857704     0.0     6.184809      0.0     7.369741      0.0   \n",
      "min      24.900000     1.0    10.000000      1.0    12.000000      1.0   \n",
      "25%      35.500000     1.0    33.600000      1.0    26.400000      1.0   \n",
      "50%      38.100000     1.0    36.500000      1.0    31.200000      1.0   \n",
      "75%      40.800000     1.0    39.000000      1.0    35.400000      1.0   \n",
      "max      51.600000     1.0    49.200000      1.0    63.300000      1.0   \n",
      "\n",
      "          BMXWAIST  BMIWAIST       BMXHIP  BMIHIP  \n",
      "count  8190.000000     347.0  6776.000000   361.0  \n",
      "mean     92.120830       1.0   106.258501     1.0  \n",
      "std      22.050484       0.0    14.660269     0.0  \n",
      "min      39.800000       1.0    69.900000     1.0  \n",
      "25%      77.500000       1.0    96.400000     1.0  \n",
      "50%      92.700000       1.0   103.700000     1.0  \n",
      "75%     107.000000       1.0   113.500000     1.0  \n",
      "max     187.000000       1.0   187.100000     1.0  \n",
      "\n",
      "[8 rows x 22 columns]\n",
      "\n",
      " Missing Values:\n",
      " SEQN           0\n",
      "BMDSTATS       0\n",
      "BMXWT        106\n",
      "BMIWT       8515\n",
      "BMXRECUM    8406\n",
      "BMIRECUM    8842\n",
      "BMXHEAD     8790\n",
      "BMIHEAD     8860\n",
      "BMXHT        361\n",
      "BMIHT       8726\n",
      "BMXBMI       389\n",
      "BMDBMIC     6368\n",
      "BMXLEG      1525\n",
      "BMILEG      8464\n",
      "BMXARML      292\n",
      "BMIARML     8660\n",
      "BMXARMC      298\n",
      "BMIARMC     8655\n",
      "BMXWAIST     670\n",
      "BMIWAIST    8513\n",
      "BMXHIP      2084\n",
      "BMIHIP      8499\n",
      "dtype: int64\n"
     ]
    }
   ],
   "source": [
    "# Examining the Examination Dataset\n",
    "print(\"\\n Examination Dataset:\\n\", exam.head())\n",
    "print(\"\\n Basic Information:\", exam.info())\n",
    "print(\"\\n Statistics:\\n\", exam.describe())\n",
    "print(\"\\n Missing Values:\\n\", exam.isnull().sum())"
   ]
  },
  {
   "cell_type": "code",
   "execution_count": 107,
   "id": "6f05a24d",
   "metadata": {},
   "outputs": [
    {
     "name": "stdout",
     "output_type": "stream",
     "text": [
      "\n",
      " Lab Dataset:\n",
      "        SEQN       WTPH2YR  LBXTC  LBDTCSI\n",
      "0  130378.0  56042.129410  264.0     6.83\n",
      "1  130379.0  37435.705647  214.0     5.53\n",
      "2  130380.0  85328.844519  187.0     4.84\n",
      "3  130386.0  44526.214135  183.0     4.73\n",
      "4  130387.0  22746.296353  203.0     5.25\n",
      "<class 'pandas.core.frame.DataFrame'>\n",
      "RangeIndex: 8068 entries, 0 to 8067\n",
      "Data columns (total 4 columns):\n",
      " #   Column   Non-Null Count  Dtype  \n",
      "---  ------   --------------  -----  \n",
      " 0   SEQN     8068 non-null   float64\n",
      " 1   WTPH2YR  8068 non-null   float64\n",
      " 2   LBXTC    6890 non-null   float64\n",
      " 3   LBDTCSI  6890 non-null   float64\n",
      "dtypes: float64(4)\n",
      "memory usage: 252.3 KB\n",
      "\n",
      " Basic Information: None\n",
      "\n",
      " Statistics:\n",
      "                 SEQN       WTPH2YR        LBXTC      LBDTCSI\n",
      "count    8068.000000  8.068000e+03  6890.000000  6890.000000\n",
      "mean   136360.136589  3.774440e+04   181.541074     4.694643\n",
      "std      3448.491865  3.093795e+04    42.316140     1.094357\n",
      "min    130378.000000  5.397605e-79    62.000000     1.600000\n",
      "25%    133345.500000  1.809262e+04   151.000000     3.900000\n",
      "50%    136391.000000  3.026473e+04   178.000000     4.600000\n",
      "75%    139336.250000  4.900605e+04   207.000000     5.350000\n",
      "max    142310.000000  2.417289e+05   438.000000    11.330000\n",
      "\n",
      " Missing Values:\n",
      " SEQN          0\n",
      "WTPH2YR       0\n",
      "LBXTC      1178\n",
      "LBDTCSI    1178\n",
      "dtype: int64\n"
     ]
    }
   ],
   "source": [
    "# Examining the Laboratory Dataset\n",
    "print(\"\\n Lab Dataset:\\n\", labs.head())\n",
    "print(\"\\n Basic Information:\", labs.info())\n",
    "print(\"\\n Statistics:\\n\", labs.describe())\n",
    "print(\"\\n Missing Values:\\n\", labs.isnull().sum())"
   ]
  },
  {
   "cell_type": "code",
   "execution_count": 108,
   "id": "3870343e",
   "metadata": {},
   "outputs": [
    {
     "name": "stdout",
     "output_type": "stream",
     "text": [
      "          SEQN        WTDRD1         WTDR2D  DR1DRSTZ  DR1EXMER  DRABF  \\\n",
      "0     130378.0  6.136656e+04   70554.222162       1.0      73.0    2.0   \n",
      "1     130379.0  3.463806e+04   36505.468348       1.0      73.0    2.0   \n",
      "2     130380.0  8.472826e+04  103979.190677       1.0      73.0    2.0   \n",
      "3     130386.0  8.201337e+04   73251.220094       1.0      90.0    2.0   \n",
      "4     130387.0  2.003262e+04   21594.110721       1.0       5.0    2.0   \n",
      "...        ...           ...            ...       ...       ...    ...   \n",
      "8063  142306.0  5.397605e-79            NaN       5.0       NaN    NaN   \n",
      "8064  142307.0  6.606603e+04   70259.160313       1.0      65.0    2.0   \n",
      "8065  142308.0  5.397605e-79            NaN       5.0       NaN    NaN   \n",
      "8066  142309.0  9.447764e+04   89391.946869       1.0      90.0    2.0   \n",
      "8067  142310.0  4.787022e+04   51601.585149       1.0      89.0    2.0   \n",
      "\n",
      "      DRDINT  DR1DBIH  DR1DAY  DR1LANG  ...  BMIARML  BMXARMC  BMIARMC  \\\n",
      "0        2.0     40.0     4.0      1.0  ...      NaN     35.7      NaN   \n",
      "1        2.0     19.0     4.0      1.0  ...      NaN     33.7      NaN   \n",
      "2        2.0     16.0     4.0      1.0  ...      NaN     36.3      NaN   \n",
      "3        2.0     18.0     6.0      1.0  ...      NaN     35.7      NaN   \n",
      "4        2.0     31.0     3.0      1.0  ...      NaN     37.4      NaN   \n",
      "...      ...      ...     ...      ...  ...      ...      ...      ...   \n",
      "8063     NaN      NaN     NaN      NaN  ...      NaN     19.0      NaN   \n",
      "8064     2.0     19.0     4.0      1.0  ...      NaN     35.4      NaN   \n",
      "8065     NaN      NaN     NaN      NaN  ...      NaN     30.6      NaN   \n",
      "8066     2.0     49.0     6.0      1.0  ...      NaN     30.8      NaN   \n",
      "8067     2.0     19.0     5.0      1.0  ...      NaN     33.5      NaN   \n",
      "\n",
      "      BMXWAIST  BMIWAIST  BMXHIP  BMIHIP       WTPH2YR  LBXTC  LBDTCSI  \n",
      "0         98.3       NaN   102.9     NaN  5.604213e+04  264.0     6.83  \n",
      "1        114.7       NaN   112.4     NaN  3.743571e+04  214.0     5.53  \n",
      "2         93.5       NaN    98.0     NaN  8.532884e+04  187.0     4.84  \n",
      "3        106.1       NaN   110.6     NaN  4.452621e+04  183.0     4.73  \n",
      "4        122.0       NaN   148.9     NaN  2.274630e+04  203.0     5.25  \n",
      "...        ...       ...     ...     ...           ...    ...      ...  \n",
      "8063      57.7       NaN     NaN     NaN  5.397605e-79    NaN      NaN  \n",
      "8064       NaN       1.0     NaN     1.0  6.899418e+04  205.0     5.30  \n",
      "8065      98.4       NaN    97.7     NaN  5.397605e-79    NaN      NaN  \n",
      "8066      96.0       NaN   103.3     NaN  4.628442e+04  255.0     6.59  \n",
      "8067     110.8       NaN   115.0     NaN  5.325082e+04  167.0     4.32  \n",
      "\n",
      "[8068 rows x 192 columns]\n"
     ]
    }
   ],
   "source": [
    "# Merging the three datasets using the common identifier (SEQN)\n",
    "\n",
    "temp = pd.merge(diet, exam, on='SEQN', how='inner')\n",
    "df = pd.merge(temp, labs, on='SEQN', how='inner')\n",
    "print(df)"
   ]
  },
  {
   "cell_type": "code",
   "execution_count": 109,
   "id": "db93b6e9",
   "metadata": {},
   "outputs": [
    {
     "data": {
      "text/plain": [
       "SEQN           0\n",
       "WTDRD1         0\n",
       "WTDR2D      1903\n",
       "DR1DRSTZ       0\n",
       "DR1EXMER    1869\n",
       "            ... \n",
       "BMXHIP      1292\n",
       "BMIHIP      7707\n",
       "WTPH2YR        0\n",
       "LBXTC       1178\n",
       "LBDTCSI     1178\n",
       "Length: 192, dtype: int64"
      ]
     },
     "execution_count": 109,
     "metadata": {},
     "output_type": "execute_result"
    }
   ],
   "source": [
    "df.isnull().sum()"
   ]
  },
  {
   "cell_type": "code",
   "execution_count": 110,
   "id": "6de82893",
   "metadata": {},
   "outputs": [
    {
     "name": "stdout",
     "output_type": "stream",
     "text": [
      "          SEQN        WTDRD1         WTDR2D  DR1DRSTZ   DR1EXMER  DRABF  \\\n",
      "0     130378.0  6.136656e+04   70554.222162       1.0  73.000000    2.0   \n",
      "1     130379.0  3.463806e+04   36505.468348       1.0  73.000000    2.0   \n",
      "2     130380.0  8.472826e+04  103979.190677       1.0  73.000000    2.0   \n",
      "3     130386.0  8.201337e+04   73251.220094       1.0  90.000000    2.0   \n",
      "4     130387.0  2.003262e+04   21594.110721       1.0   5.000000    2.0   \n",
      "...        ...           ...            ...       ...        ...    ...   \n",
      "8063  142306.0  5.397605e-79   49395.261131       5.0  53.473625    2.0   \n",
      "8064  142307.0  6.606603e+04   70259.160313       1.0  65.000000    2.0   \n",
      "8065  142308.0  5.397605e-79   49395.261131       5.0  53.473625    2.0   \n",
      "8066  142309.0  9.447764e+04   89391.946869       1.0  90.000000    2.0   \n",
      "8067  142310.0  4.787022e+04   51601.585149       1.0  89.000000    2.0   \n",
      "\n",
      "        DRDINT    DR1DBIH    DR1DAY  DR1LANG  ...  BMIARML  BMXARMC  BMIARMC  \\\n",
      "0     2.000000  40.000000  4.000000  1.00000  ...      1.0     35.7      1.0   \n",
      "1     2.000000  19.000000  4.000000  1.00000  ...      1.0     33.7      1.0   \n",
      "2     2.000000  16.000000  4.000000  1.00000  ...      1.0     36.3      1.0   \n",
      "3     2.000000  18.000000  6.000000  1.00000  ...      1.0     35.7      1.0   \n",
      "4     2.000000  31.000000  3.000000  1.00000  ...      1.0     37.4      1.0   \n",
      "...        ...        ...       ...      ...  ...      ...      ...      ...   \n",
      "8063  1.876723  25.418917  3.542023  1.08285  ...      1.0     19.0      1.0   \n",
      "8064  2.000000  19.000000  4.000000  1.00000  ...      1.0     35.4      1.0   \n",
      "8065  1.876723  25.418917  3.542023  1.08285  ...      1.0     30.6      1.0   \n",
      "8066  2.000000  49.000000  6.000000  1.00000  ...      1.0     30.8      1.0   \n",
      "8067  2.000000  19.000000  5.000000  1.00000  ...      1.0     33.5      1.0   \n",
      "\n",
      "        BMXWAIST  BMIWAIST      BMXHIP  BMIHIP       WTPH2YR       LBXTC  \\\n",
      "0      98.300000       1.0  102.900000     1.0  5.604213e+04  264.000000   \n",
      "1     114.700000       1.0  112.400000     1.0  3.743571e+04  214.000000   \n",
      "2      93.500000       1.0   98.000000     1.0  8.532884e+04  187.000000   \n",
      "3     106.100000       1.0  110.600000     1.0  4.452621e+04  183.000000   \n",
      "4     122.000000       1.0  148.900000     1.0  2.274630e+04  203.000000   \n",
      "...          ...       ...         ...     ...           ...         ...   \n",
      "8063   57.700000       1.0  106.258501     1.0  5.397605e-79  181.541074   \n",
      "8064   94.678594       1.0  106.258501     1.0  6.899418e+04  205.000000   \n",
      "8065   98.400000       1.0   97.700000     1.0  5.397605e-79  181.541074   \n",
      "8066   96.000000       1.0  103.300000     1.0  4.628442e+04  255.000000   \n",
      "8067  110.800000       1.0  115.000000     1.0  5.325082e+04  167.000000   \n",
      "\n",
      "       LBDTCSI  \n",
      "0     6.830000  \n",
      "1     5.530000  \n",
      "2     4.840000  \n",
      "3     4.730000  \n",
      "4     5.250000  \n",
      "...        ...  \n",
      "8063  4.694643  \n",
      "8064  5.300000  \n",
      "8065  4.694643  \n",
      "8066  6.590000  \n",
      "8067  4.320000  \n",
      "\n",
      "[8068 rows x 192 columns]\n"
     ]
    }
   ],
   "source": [
    "df.fillna(df.mean(), inplace=True)\n",
    "print(df)"
   ]
  },
  {
   "cell_type": "code",
   "execution_count": 111,
   "id": "cd3bb172",
   "metadata": {},
   "outputs": [
    {
     "name": "stdout",
     "output_type": "stream",
     "text": [
      "      BMXRECUM  BMIRECUM  BMXHEAD  BMIHEAD\n",
      "0          NaN       NaN      NaN      NaN\n",
      "1          NaN       NaN      NaN      NaN\n",
      "2          NaN       NaN      NaN      NaN\n",
      "3          NaN       NaN      NaN      NaN\n",
      "4          NaN       NaN      NaN      NaN\n",
      "...        ...       ...      ...      ...\n",
      "8063       NaN       NaN      NaN      NaN\n",
      "8064       NaN       NaN      NaN      NaN\n",
      "8065       NaN       NaN      NaN      NaN\n",
      "8066       NaN       NaN      NaN      NaN\n",
      "8067       NaN       NaN      NaN      NaN\n",
      "\n",
      "[8068 rows x 4 columns]\n"
     ]
    }
   ],
   "source": [
    "df_with_null = df[df.columns[df.isnull().any()]].copy()\n",
    "print(df_with_null)"
   ]
  },
  {
   "cell_type": "code",
   "execution_count": 112,
   "id": "9fe41dea",
   "metadata": {},
   "outputs": [
    {
     "data": {
      "text/plain": [
       "BMXRECUM    8068\n",
       "BMIRECUM    8068\n",
       "BMXHEAD     8068\n",
       "BMIHEAD     8068\n",
       "dtype: int64"
      ]
     },
     "execution_count": 112,
     "metadata": {},
     "output_type": "execute_result"
    }
   ],
   "source": [
    "df_with_null.isnull().sum()"
   ]
  },
  {
   "cell_type": "code",
   "execution_count": 113,
   "id": "56ada670",
   "metadata": {},
   "outputs": [],
   "source": [
    "# Four columns have all their entries NaN we remove those columns\n",
    "columns = [\"BMXRECUM\", \"BMIRECUM\", \"BMXHEAD\", \"BMIHEAD\"]\n",
    "df.drop(columns = [\"BMXRECUM\", \"BMIRECUM\", \"BMXHEAD\", \"BMIHEAD\"], inplace=True)\n",
    "df_with_null.drop(columns = [\"BMXRECUM\", \"BMIRECUM\", \"BMXHEAD\", \"BMIHEAD\"], inplace=True)"
   ]
  },
  {
   "cell_type": "code",
   "execution_count": 114,
   "id": "d8023bf1",
   "metadata": {
    "scrolled": false
   },
   "outputs": [
    {
     "name": "stdout",
     "output_type": "stream",
     "text": [
      "Empty DataFrame\n",
      "Columns: []\n",
      "Index: [0, 1, 2, 3, 4]\n",
      "Series([], dtype: float64)\n"
     ]
    }
   ],
   "source": [
    "print(df_with_null.head())\n",
    "print(df_with_null.isnull().sum())"
   ]
  },
  {
   "cell_type": "code",
   "execution_count": 115,
   "id": "3f13bea1",
   "metadata": {
    "scrolled": false
   },
   "outputs": [
    {
     "name": "stdout",
     "output_type": "stream",
     "text": [
      "<class 'pandas.core.frame.DataFrame'>\n",
      "RangeIndex: 8068 entries, 0 to 8067\n",
      "Columns: 188 entries, SEQN to LBDTCSI\n",
      "dtypes: float64(188)\n",
      "memory usage: 11.6 MB\n",
      "None\n",
      "SEQN        0\n",
      "WTDRD1      0\n",
      "WTDR2D      0\n",
      "DR1DRSTZ    0\n",
      "DR1EXMER    0\n",
      "           ..\n",
      "BMXHIP      0\n",
      "BMIHIP      0\n",
      "WTPH2YR     0\n",
      "LBXTC       0\n",
      "LBDTCSI     0\n",
      "Length: 188, dtype: int64\n"
     ]
    }
   ],
   "source": [
    "# Now only columns with object dtypes have null values\n",
    "# Since we cant fill them with means, we fill them with the modes of the columns\n",
    "\n",
    "df.fillna(df.mode().iloc[0], inplace=True)\n",
    "print(df.info())\n",
    "print(df.isnull().sum())"
   ]
  },
  {
   "cell_type": "markdown",
   "id": "0f91a12f",
   "metadata": {},
   "source": [
    "Filling null values with the column mean was a reasonable approach for columns with a low percentage of missing data, as the dataset primarily contains medical characteristics, making the mean a logical estimate.\n",
    "\n",
    "However, for columns where more than half of the values were missing, this method was less appropriate, as it could introduce significant bias and reduce the reliability of the data."
   ]
  },
  {
   "cell_type": "code",
   "execution_count": 116,
   "id": "a22a0b47",
   "metadata": {},
   "outputs": [
    {
     "name": "stdout",
     "output_type": "stream",
     "text": [
      "<class 'pandas.core.frame.DataFrame'>\n",
      "RangeIndex: 8068 entries, 0 to 8067\n",
      "Columns: 188 entries, SEQN to LBDTCSI\n",
      "dtypes: float64(188)\n",
      "memory usage: 11.6 MB\n",
      "None\n"
     ]
    }
   ],
   "source": [
    "# Now that we have filled the null values in our dataset, we will encode the columns with object datatypes\n",
    "from sklearn.preprocessing import LabelEncoder\n",
    "\n",
    "object_columns = df.select_dtypes(include=['object']).columns\n",
    "label_encoder = LabelEncoder()\n",
    "for column in object_columns:\n",
    "    df[column] = label_encoder.fit_transform(df[column])\n",
    "\n",
    "print(df.info())"
   ]
  },
  {
   "cell_type": "code",
   "execution_count": 117,
   "id": "ba84ffc2",
   "metadata": {},
   "outputs": [
    {
     "name": "stdout",
     "output_type": "stream",
     "text": [
      "          SEQN    WTDRD1        WTDR2D  DR1DRSTZ  DR1EXMER  DRABF    DRDINT  \\\n",
      "0    -1.734818  0.576553  4.633496e-01 -0.551938  0.621968    0.0  0.428968   \n",
      "1    -1.734528 -0.075817 -2.822672e-01 -0.551938  0.621968    0.0  0.428968   \n",
      "2    -1.734238  1.146748  1.195306e+00 -0.551938  0.621968    0.0  0.428968   \n",
      "3    -1.732498  1.080485  5.224098e-01 -0.551938  1.163463    0.0  0.428968   \n",
      "4    -1.732208 -0.432296 -6.088036e-01 -0.551938 -1.544015    0.0  0.428968   \n",
      "...        ...       ...           ...       ...       ...    ...       ...   \n",
      "8063  1.724299 -0.921238 -1.593326e-16  1.819852  0.000000    0.0  0.000000   \n",
      "8064  1.724589  0.691254  4.568882e-01 -0.551938  0.367146    0.0  0.428968   \n",
      "8065  1.724879 -0.921238 -1.593326e-16  1.819852  0.000000    0.0  0.000000   \n",
      "8066  1.725169  1.384704  8.758676e-01 -0.551938  1.163463    0.0  0.428968   \n",
      "8067  1.725459  0.247144  4.831520e-02 -0.551938  1.131611    0.0  0.428968   \n",
      "\n",
      "           DR1DBIH        DR1DAY   DR1LANG  ...  BMIARML   BMXARMC  BMIARMC  \\\n",
      "0     9.577573e-01  2.925893e-01 -0.320415  ...      0.0  0.622449      0.0   \n",
      "1    -4.216260e-01  2.925893e-01 -0.320415  ...      0.0  0.302675      0.0   \n",
      "2    -6.186808e-01  2.925893e-01 -0.320415  ...      0.0  0.718381      0.0   \n",
      "3    -4.873109e-01  1.570336e+00 -0.320415  ...      0.0  0.622449      0.0   \n",
      "4     3.665930e-01 -3.462840e-01 -0.320415  ...      0.0  0.894256      0.0   \n",
      "...            ...           ...       ...  ...      ...       ...      ...   \n",
      "8063  4.667194e-16 -2.837167e-16  0.000000  ...      0.0 -2.047663      0.0   \n",
      "8064 -4.216260e-01  2.925893e-01 -0.320415  ...      0.0  0.574483      0.0   \n",
      "8065  4.667194e-16 -2.837167e-16  0.000000  ...      0.0 -0.192975      0.0   \n",
      "8066  1.548922e+00  1.570336e+00 -0.320415  ...      0.0 -0.160997      0.0   \n",
      "8067 -4.216260e-01  9.314626e-01 -0.320415  ...      0.0  0.270697      0.0   \n",
      "\n",
      "          BMXWAIST  BMIWAIST    BMXHIP  BMIHIP   WTPH2YR         LBXTC  \\\n",
      "0     1.838098e-01       0.0 -0.249995     0.0  0.591470  2.108805e+00   \n",
      "1     1.016216e+00       0.0  0.457152     0.0 -0.009978  8.301049e-01   \n",
      "2    -5.982126e-02       0.0 -0.614734     0.0  1.538156  1.396066e-01   \n",
      "3     5.797103e-01       0.0  0.323166     0.0  0.219221  3.731059e-02   \n",
      "4     1.386738e+00       0.0  3.174087     0.0 -0.484810  5.487908e-01   \n",
      "...            ...       ...       ...     ...       ...           ...   \n",
      "8063 -1.876903e+00       0.0  0.000000     0.0 -1.220079  7.268570e-16   \n",
      "8064 -7.212928e-16       0.0  0.000000     0.0  1.010142  5.999388e-01   \n",
      "8065  1.888855e-01       0.0 -0.637065     0.0 -1.220079  7.268570e-16   \n",
      "8066  6.706992e-02       0.0 -0.220221     0.0  0.276054  1.878639e+00   \n",
      "8067  8.182657e-01       0.0  0.650687     0.0  0.501241 -3.718736e-01   \n",
      "\n",
      "       LBDTCSI  \n",
      "0     2.111622  \n",
      "1     0.826072  \n",
      "2     0.143741  \n",
      "3     0.034964  \n",
      "4     0.549184  \n",
      "...        ...  \n",
      "8063  0.000000  \n",
      "8064  0.598628  \n",
      "8065  0.000000  \n",
      "8066  1.874290  \n",
      "8067 -0.370479  \n",
      "\n",
      "[8068 rows x 188 columns]\n"
     ]
    }
   ],
   "source": [
    "# We will now scale our data using Standard Scaler\n",
    "\n",
    "from sklearn.preprocessing import StandardScaler\n",
    "\n",
    "numeric_columns = df.select_dtypes(include=['float64', 'int64', 'int32']).columns\n",
    "scaler = StandardScaler()\n",
    "df[numeric_columns] = scaler.fit_transform(df[numeric_columns])\n",
    "print(df)"
   ]
  },
  {
   "cell_type": "markdown",
   "id": "7d8ad099",
   "metadata": {},
   "source": [
    "Standard Scaling is crucial for several reasons:\n",
    "\n",
    "1) Distance-Based Algorithms: Models like k-nearest neighbors (KNN) and hierarchical clustering rely on distance metrics, making them sensitive to feature scales. Standardization ensures all features contribute equally to distance calculations.\n",
    "\n",
    "2) Improved Convergence: When features have vastly different scales, certain algorithms may take longer to converge or even fail to converge entirely. Scaling helps stabilize the optimization process.\n",
    "\n",
    "3) Interpretable Coefficients: In models like linear regression and logistic regression, feature magnitudes can disproportionately affect coefficient values, making interpretation difficult. Scaling prevents this imbalance.\n",
    "\n",
    "4) Better Visualizations: Standardizing features makes it easier to create meaningful plots that accurately represent relationships within the data, avoiding misleading representations due to varying scales."
   ]
  },
  {
   "cell_type": "code",
   "execution_count": 118,
   "id": "6ecd20bd",
   "metadata": {},
   "outputs": [],
   "source": [
    "# Finally export the dataset\n",
    "df.to_csv(\"dataset.csv\", index=False)"
   ]
  }
 ],
 "metadata": {
  "kernelspec": {
   "display_name": "Python 3",
   "language": "python",
   "name": "python3"
  },
  "language_info": {
   "codemirror_mode": {
    "name": "ipython",
    "version": 3
   },
   "file_extension": ".py",
   "mimetype": "text/x-python",
   "name": "python",
   "nbconvert_exporter": "python",
   "pygments_lexer": "ipython3",
   "version": "3.12.6"
  }
 },
 "nbformat": 4,
 "nbformat_minor": 5
}
